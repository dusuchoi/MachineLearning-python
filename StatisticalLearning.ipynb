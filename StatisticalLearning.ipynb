{
 "cells": [
  {
   "cell_type": "code",
   "execution_count": 85,
   "metadata": {
    "collapsed": false
   },
   "outputs": [],
   "source": [
    "import pickle\n",
    "\n",
    "with open('C:\\conll2002', 'rb') as f:\n",
    "    train, test = pickle.load(f)"
   ]
  },
  {
   "cell_type": "code",
   "execution_count": 86,
   "metadata": {
    "collapsed": false
   },
   "outputs": [
    {
     "name": "stdout",
     "output_type": "stream",
     "text": [
      "('Melbourne', 'NP', 'B-LOC')\n",
      "('(', 'Fpa', 'O')\n",
      "('Australia', 'NP', 'B-LOC')\n",
      "(')', 'Fpt', 'O')\n",
      "(',', 'Fc', 'O')\n",
      "('25', 'Z', 'O')\n",
      "('may', 'NC', 'O')\n",
      "('(', 'Fpa', 'O')\n",
      "('EFE', 'NC', 'B-ORG')\n",
      "(')', 'Fpt', 'O')\n",
      "('.', 'Fp', 'O')\n"
     ]
    }
   ],
   "source": [
    "# Raw sentence is 'Melbourne(Australia),\n",
    "for chunk in train[0]:\n",
    "    print(chunk)"
   ]
  },
  {
   "cell_type": "code",
   "execution_count": 87,
   "metadata": {
    "collapsed": false
   },
   "outputs": [],
   "source": [
    "def word2features(sentence, i):\n",
    "    \n",
    "    word = sentence[i][0]\n",
    "    postag = sentence[i][1]\n",
    "    \n",
    "    features = {\n",
    "        'word_lower': word.lower(),\n",
    "        'is_upper': word.isupper(),\n",
    "        'is_title': word.istitle(),\n",
    "        'is_digit': word.isdigit(),\n",
    "        'postag': postag\n",
    "    }\n",
    "    \n",
    "    if i==0:\n",
    "        features['BOS'] = True\n",
    "    if i==( len(sentence)-1 ):\n",
    "        features['EOS'] = True\n",
    "        \n",
    "    return features\n",
    "\n",
    "def sentence2features(sentence):\n",
    "    return [ word2features(sentence, i) for i in range(len(sentence))]\n",
    "\n",
    "def sentence2labels(sentence):\n",
    "    return [ label for token, postag, label in sentence ]\n",
    "\n",
    "def sentence2tokens(sentence):\n",
    "    return [ token for token, postag, label in sentence ]"
   ]
  },
  {
   "cell_type": "code",
   "execution_count": 88,
   "metadata": {
    "collapsed": false
   },
   "outputs": [
    {
     "data": {
      "text/plain": [
       "{'BOS': True,\n",
       " 'is_digit': False,\n",
       " 'is_title': True,\n",
       " 'is_upper': False,\n",
       " 'postag': 'NP',\n",
       " 'word_lower': 'melbourne'}"
      ]
     },
     "execution_count": 88,
     "metadata": {},
     "output_type": "execute_result"
    }
   ],
   "source": [
    "sentence2features(train[0])[0]"
   ]
  },
  {
   "cell_type": "code",
   "execution_count": 89,
   "metadata": {
    "collapsed": false
   },
   "outputs": [],
   "source": [
    "X_train = [ sentence2features(s) for s in train ]\n",
    "y_train = [ sentence2labels(s) for s in train]\n",
    "X_test = [ sentence2features(s) for s in test ]\n",
    "y_test = [ sentence2labels(s) for s in test ]"
   ]
  },
  {
   "cell_type": "code",
   "execution_count": 90,
   "metadata": {
    "collapsed": true
   },
   "outputs": [],
   "source": [
    "# pip install sklearn-crfsuite\n",
    "\n",
    "import sklearn_crfsuite\n",
    "from sklearn_crfsuite import scorers\n",
    "from sklearn_crfsuite import metrics"
   ]
  },
  {
   "cell_type": "code",
   "execution_count": 91,
   "metadata": {
    "collapsed": false
   },
   "outputs": [
    {
     "data": {
      "text/plain": [
       "CRF(algorithm=None, all_possible_states=None, all_possible_transitions=None,\n",
       "  averaging=None, c=None, c1=None, c2=None, calibration_candidates=None,\n",
       "  calibration_eta=None, calibration_max_trials=None, calibration_rate=None,\n",
       "  calibration_samples=None, delta=None, epsilon=None, error_sensitive=None,\n",
       "  gamma=None, keep_tempfiles=None, linesearch=None, max_iterations=100,\n",
       "  max_linesearch=None, min_freq=None, model_filename=None,\n",
       "  num_memories=None, pa_type=None, period=None, trainer_cls=None,\n",
       "  variance=None, verbose=False)"
      ]
     },
     "execution_count": 91,
     "metadata": {},
     "output_type": "execute_result"
    }
   ],
   "source": [
    "crf = sklearn_crfsuite.CRF(max_iterations=100)\n",
    "crf.fit(X_train, y_train)"
   ]
  },
  {
   "cell_type": "code",
   "execution_count": 92,
   "metadata": {
    "collapsed": true
   },
   "outputs": [],
   "source": [
    "labels = ['B-LOC', 'I-LOC', 'B-ORG', 'I-ORG', 'B-PER', 'I-PER', 'B-MISC', 'I-MISC']"
   ]
  },
  {
   "cell_type": "code",
   "execution_count": 93,
   "metadata": {
    "collapsed": false
   },
   "outputs": [
    {
     "data": {
      "text/plain": [
       "0.71176088970234686"
      ]
     },
     "execution_count": 93,
     "metadata": {},
     "output_type": "execute_result"
    }
   ],
   "source": [
    "y_pred = crf.predict(X_test)\n",
    "metrics.flat_f1_score(y_test, y_pred, average='weighted', labels=labels)"
   ]
  },
  {
   "cell_type": "code",
   "execution_count": 94,
   "metadata": {
    "collapsed": false
   },
   "outputs": [
    {
     "name": "stdout",
     "output_type": "stream",
     "text": [
      "             precision    recall  f1-score   support\n",
      "\n",
      "      B-LOC      0.681     0.702     0.691      1084\n",
      "      I-LOC      0.644     0.557     0.597       325\n",
      "      B-ORG      0.805     0.783     0.794      1400\n",
      "      I-ORG      0.723     0.772     0.747      1104\n",
      "      B-PER      0.767     0.766     0.767       735\n",
      "      I-PER      0.801     0.932     0.862       634\n",
      "     B-MISC      0.724     0.363     0.483       339\n",
      "     I-MISC      0.494     0.395     0.439       557\n",
      "\n",
      "avg / total      0.723     0.710     0.712      6178\n",
      "\n"
     ]
    }
   ],
   "source": [
    "print( metrics.flat_classification_report(y_test, y_pred, labels=labels, digits=3) )"
   ]
  },
  {
   "cell_type": "code",
   "execution_count": null,
   "metadata": {
    "collapsed": true
   },
   "outputs": [],
   "source": []
  },
  {
   "cell_type": "code",
   "execution_count": null,
   "metadata": {
    "collapsed": true
   },
   "outputs": [],
   "source": []
  },
  {
   "cell_type": "code",
   "execution_count": null,
   "metadata": {
    "collapsed": true
   },
   "outputs": [],
   "source": []
  },
  {
   "cell_type": "code",
   "execution_count": null,
   "metadata": {
    "collapsed": true
   },
   "outputs": [],
   "source": []
  },
  {
   "cell_type": "code",
   "execution_count": null,
   "metadata": {
    "collapsed": true
   },
   "outputs": [],
   "source": []
  },
  {
   "cell_type": "markdown",
   "metadata": {
    "collapsed": true
   },
   "source": [
    "# 문제\n",
    "* 한국어 띄어쓰기 구현하기"
   ]
  },
  {
   "cell_type": "code",
   "execution_count": 295,
   "metadata": {
    "collapsed": false
   },
   "outputs": [],
   "source": [
    "import re\n",
    "import codecs\n",
    "\n",
    "def corpus2sent(path):\n",
    "    corpus = codecs.open(path).read()    \n",
    "    raws = corpus.split('\\n')\n",
    "    sentences = []\n",
    "    for row in rows:\n",
    "        tokens = row.split(' ')       \n",
    "        sentence = []\n",
    "        for token in tokens:            \n",
    "            try:\n",
    "                word, tag = token.split('/')\n",
    "                if word and tag:                   \n",
    "                    word=word.replace(\",\",\"\")\n",
    "                    sentence.append([word, tag])\n",
    "            except:\n",
    "                pass\n",
    "        sentences.append(sentence)\n",
    "    return sentences\n"
   ]
  },
  {
   "cell_type": "code",
   "execution_count": 227,
   "metadata": {
    "collapsed": true
   },
   "outputs": [],
   "source": [
    "def index2feature(sent, i, offset):\n",
    "    word, tag = sent[i + offset]\n",
    "    if offset < 0:       \n",
    "        sign=''\n",
    "        return '{}{}word,{}'.format(sign, offset, word)\n",
    "    if offset == 0:\n",
    "        return 'word,{}'.format(word)\n",
    "    else:\n",
    "        sign = '+'\n",
    "        return '{}{}word,{}'.format(sign, offset, word)\n",
    "\n",
    "def word2features(sent, i):\n",
    "    L = len(sent)\n",
    "    word, tag = sent[i]\n",
    "    features = []\n",
    " \n",
    "    if i > 1:\n",
    "        features.append(index2feature(sent, i, -2))\n",
    "    if i > 0:\n",
    "        features.append(index2feature(sent, i, -1))  \n",
    "    features.append(index2feature(sent, i, 0))\n",
    "    if i < L - 1:\n",
    "        features.append(index2feature(sent, i, 1)) \n",
    "    if i < L - 2:\n",
    "        features.append(index2feature(sent, i, 2)) \n",
    "    return features\n",
    "\n",
    "def sent2words(sent):\n",
    "    return [word for word, tag in sent]\n",
    "\n",
    "def sent2tags(sent):\n",
    "    return [tag for word, tag in sent]\n",
    "\n",
    "def sent2features(sent):\n",
    "    return [word2features(sent, i) for i in range(len(sent))]"
   ]
  },
  {
   "cell_type": "code",
   "execution_count": 228,
   "metadata": {
    "collapsed": false
   },
   "outputs": [],
   "source": [
    "train = corpus2sent(\"C:/train_corp.txt\")\n",
    "test = corpus2sent(\"C:/test_corp.txt\")"
   ]
  },
  {
   "cell_type": "code",
   "execution_count": 229,
   "metadata": {
    "collapsed": false
   },
   "outputs": [],
   "source": [
    "train_x = [sent2features(sent) for sent in train]\n",
    "train_y = [sent2tags(sent) for sent in train]\n",
    "test_x = [sent2features(sent) for sent in test]\n",
    "test_y = [sent2tags(sent) for sent in test]"
   ]
  },
  {
   "cell_type": "code",
   "execution_count": 230,
   "metadata": {
    "collapsed": false
   },
   "outputs": [],
   "source": [
    "import copy\n",
    "train_x2=copy.copy(train_x)\n",
    "X_train=copy.copy(train_x2)\n",
    "test_x2=copy.copy(test_x)\n",
    "X_test=copy.copy(test_x2)\n",
    "for i in range(len(train_x)):\n",
    "    for j in range(len(train_x[i])):        \n",
    "        for k in range(len(train_x[i][j])):\n",
    "            train_x2[i][j][k]=copy.copy(train_x[i][j][k].split(','))\n",
    "            \n",
    "for i in range(len(test_x)):\n",
    "    for j in range(len(test_x[i])):        \n",
    "        for k in range(len(test_x[i][j])):\n",
    "            test_x2[i][j][k]=copy.copy(test_x[i][j][k].split(','))           \n",
    "                       "
   ]
  },
  {
   "cell_type": "code",
   "execution_count": 231,
   "metadata": {
    "collapsed": false,
    "scrolled": true
   },
   "outputs": [],
   "source": [
    "for i in range(len(train_x2)):\n",
    "    for j in range(len(train_x2[i])):     \n",
    "            X_train[i][j]=copy.copy(dict(train_x2[i][j]))   \n",
    "            \n",
    "for i in range(len(test_x2)):\n",
    "    for j in range(len(test_x2[i])):     \n",
    "            X_test[i][j]=copy.copy(dict(test_x2[i][j]))      "
   ]
  },
  {
   "cell_type": "markdown",
   "metadata": {},
   "source": [
    "## 1번"
   ]
  },
  {
   "cell_type": "code",
   "execution_count": 294,
   "metadata": {
    "collapsed": false,
    "scrolled": true
   },
   "outputs": [
    {
     "name": "stdout",
     "output_type": "stream",
     "text": [
      "[{'word': '여', '+1word': '야', '+2word': '는'}, {'-1word': '여', 'word': '야', '+1word': '는', '+2word': '1'}, {'-2word': '여', '-1word': '야', 'word': '는', '+1word': '1', '+2word': '7'}, {'-2word': '야', '-1word': '는', 'word': '1', '+1word': '7', '+2word': '일'}, {'-2word': '는', '-1word': '1', 'word': '7', '+1word': '일', '+2word': '헌'}, {'-2word': '1', '-1word': '7', 'word': '일', '+1word': '헌', '+2word': '법'}, {'-2word': '7', '-1word': '일', 'word': '헌', '+1word': '법', '+2word': '재'}, {'-2word': '일', '-1word': '헌', 'word': '법', '+1word': '재', '+2word': '판'}, {'-2word': '헌', '-1word': '법', 'word': '재', '+1word': '판', '+2word': '소'}, {'-2word': '법', '-1word': '재', 'word': '판', '+1word': '소', '+2word': '의'}, {'-2word': '재', '-1word': '판', 'word': '소', '+1word': '의', '+2word': '위'}, {'-2word': '판', '-1word': '소', 'word': '의', '+1word': '위', '+2word': '헌'}, {'-2word': '소', '-1word': '의', 'word': '위', '+1word': '헌', '+2word': '결'}, {'-2word': '의', '-1word': '위', 'word': '헌', '+1word': '결', '+2word': '정'}, {'-2word': '위', '-1word': '헌', 'word': '결', '+1word': '정', '+2word': '에'}, {'-2word': '헌', '-1word': '결', 'word': '정', '+1word': '에', '+2word': '따'}, {'-2word': '결', '-1word': '정', 'word': '에', '+1word': '따', '+2word': '라'}, {'-2word': '정', '-1word': '에', 'word': '따', '+1word': '라', '+2word': '선'}, {'-2word': '에', '-1word': '따', 'word': '라', '+1word': '선', '+2word': '거'}, {'-2word': '따', '-1word': '라', 'word': '선', '+1word': '거', '+2word': '구'}, {'-2word': '라', '-1word': '선', 'word': '거', '+1word': '구', '+2word': '재'}, {'-2word': '선', '-1word': '거', 'word': '구', '+1word': '재', '+2word': '획'}, {'-2word': '거', '-1word': '구', 'word': '재', '+1word': '획', '+2word': '정'}, {'-2word': '구', '-1word': '재', 'word': '획', '+1word': '정', '+2word': '문'}, {'-2word': '재', '-1word': '획', 'word': '정', '+1word': '문', '+2word': '제'}, {'-2word': '획', '-1word': '정', 'word': '문', '+1word': '제', '+2word': '를'}, {'-2word': '정', '-1word': '문', 'word': '제', '+1word': '를', '+2word': '다'}, {'-2word': '문', '-1word': '제', 'word': '를', '+1word': '다', '+2word': '루'}, {'-2word': '제', '-1word': '를', 'word': '다', '+1word': '루', '+2word': '기'}, {'-2word': '를', '-1word': '다', 'word': '루', '+1word': '기', '+2word': '위'}, {'-2word': '다', '-1word': '루', 'word': '기', '+1word': '위', '+2word': '해'}, {'-2word': '루', '-1word': '기', 'word': '위', '+1word': '해', '+2word': '구'}, {'-2word': '기', '-1word': '위', 'word': '해', '+1word': '구', '+2word': '성'}, {'-2word': '위', '-1word': '해', 'word': '구', '+1word': '성', '+2word': '한'}, {'-2word': '해', '-1word': '구', 'word': '성', '+1word': '한', '+2word': '국'}, {'-2word': '구', '-1word': '성', 'word': '한', '+1word': '국', '+2word': '회'}, {'-2word': '성', '-1word': '한', 'word': '국', '+1word': '회', '+2word': '정'}, {'-2word': '한', '-1word': '국', 'word': '회', '+1word': '정', '+2word': '치'}, {'-2word': '국', '-1word': '회', 'word': '정', '+1word': '치', '+2word': '개'}, {'-2word': '회', '-1word': '정', 'word': '치', '+1word': '개', '+2word': '혁'}, {'-2word': '정', '-1word': '치', 'word': '개', '+1word': '혁', '+2word': '특'}, {'-2word': '치', '-1word': '개', 'word': '혁', '+1word': '특', '+2word': '별'}, {'-2word': '개', '-1word': '혁', 'word': '특', '+1word': '별', '+2word': '위'}, {'-2word': '혁', '-1word': '특', 'word': '별', '+1word': '위', '+2word': '원'}, {'-2word': '특', '-1word': '별', 'word': '위', '+1word': '원', '+2word': '회'}, {'-2word': '별', '-1word': '위', 'word': '원', '+1word': '회', '+2word': '('}, {'-2word': '위', '-1word': '원', 'word': '회', '+1word': '(', '+2word': '정'}, {'-2word': '원', '-1word': '회', 'word': '(', '+1word': '정', '+2word': '개'}, {'-2word': '회', '-1word': '(', 'word': '정', '+1word': '개', '+2word': '특'}, {'-2word': '(', '-1word': '정', 'word': '개', '+1word': '특', '+2word': '위'}, {'-2word': '정', '-1word': '개', 'word': '특', '+1word': '위', '+2word': ')'}, {'-2word': '개', '-1word': '특', 'word': '위', '+1word': ')', '+2word': '에'}, {'-2word': '특', '-1word': '위', 'word': ')', '+1word': '에', '+2word': '서'}, {'-2word': '위', '-1word': ')', 'word': '에', '+1word': '서', '+2word': '활'}, {'-2word': ')', '-1word': '에', 'word': '서', '+1word': '활', '+2word': '동'}, {'-2word': '에', '-1word': '서', 'word': '활', '+1word': '동', '+2word': '할'}, {'-2word': '서', '-1word': '활', 'word': '동', '+1word': '할', '+2word': '의'}, {'-2word': '활', '-1word': '동', 'word': '할', '+1word': '의', '+2word': '원'}, {'-2word': '동', '-1word': '할', 'word': '의', '+1word': '원', '+2word': '1'}, {'-2word': '할', '-1word': '의', 'word': '원', '+1word': '1', '+2word': '9'}, {'-2word': '의', '-1word': '원', 'word': '1', '+1word': '9', '+2word': '명'}, {'-2word': '원', '-1word': '1', 'word': '9', '+1word': '명', '+2word': '의'}, {'-2word': '1', '-1word': '9', 'word': '명', '+1word': '의', '+2word': '명'}, {'-2word': '9', '-1word': '명', 'word': '의', '+1word': '명', '+2word': '단'}, {'-2word': '명', '-1word': '의', 'word': '명', '+1word': '단', '+2word': '을'}, {'-2word': '의', '-1word': '명', 'word': '단', '+1word': '을', '+2word': '확'}, {'-2word': '명', '-1word': '단', 'word': '을', '+1word': '확', '+2word': '정'}, {'-2word': '단', '-1word': '을', 'word': '확', '+1word': '정', '+2word': ''}, {'-2word': '을', '-1word': '확', 'word': '정', '+1word': '', '+2word': '발'}, {'-2word': '확', '-1word': '정', 'word': '', '+1word': '발', '+2word': '표'}, {'-2word': '정', '-1word': '', 'word': '발', '+1word': '표', '+2word': '했'}, {'-2word': '', '-1word': '발', 'word': '표', '+1word': '했', '+2word': '다'}, {'-2word': '발', '-1word': '표', 'word': '했', '+1word': '다', '+2word': '.'}, {'-2word': '표', '-1word': '했', 'word': '다', '+1word': '.', '+2word': '경'}, {'-2word': '했', '-1word': '다', 'word': '.', '+1word': '경', '+2word': '기'}, {'-2word': '다', '-1word': '.', 'word': '경', '+1word': '기', '+2word': '지'}, {'-2word': '.', '-1word': '경', 'word': '기', '+1word': '지', '+2word': '역'}, {'-2word': '경', '-1word': '기', 'word': '지', '+1word': '역', '+2word': '의'}, {'-2word': '기', '-1word': '지', 'word': '역', '+1word': '의', '+2word': '원'}, {'-2word': '지', '-1word': '역', 'word': '의', '+1word': '원', '+2word': '은'}, {'-2word': '역', '-1word': '의', 'word': '원', '+1word': '은', '+2word': '새'}, {'-2word': '의', '-1word': '원', 'word': '은', '+1word': '새', '+2word': '누'}, {'-2word': '원', '-1word': '은', 'word': '새', '+1word': '누', '+2word': '리'}, {'-2word': '은', '-1word': '새', 'word': '누', '+1word': '리', '+2word': '당'}, {'-2word': '새', '-1word': '누', 'word': '리', '+1word': '당', '+2word': '1'}, {'-2word': '누', '-1word': '리', 'word': '당', '+1word': '1', '+2word': '명'}, {'-2word': '리', '-1word': '당', 'word': '1', '+1word': '명', '+2word': ''}, {'-2word': '당', '-1word': '1', 'word': '명', '+1word': '', '+2word': '새'}, {'-2word': '1', '-1word': '명', 'word': '', '+1word': '새', '+2word': '정'}, {'-2word': '명', '-1word': '', 'word': '새', '+1word': '정', '+2word': '치'}, {'-2word': '', '-1word': '새', 'word': '정', '+1word': '치', '+2word': '민'}, {'-2word': '새', '-1word': '정', 'word': '치', '+1word': '민', '+2word': '주'}, {'-2word': '정', '-1word': '치', 'word': '민', '+1word': '주', '+2word': '연'}, {'-2word': '치', '-1word': '민', 'word': '주', '+1word': '연', '+2word': '합'}, {'-2word': '민', '-1word': '주', 'word': '연', '+1word': '합', '+2word': '3'}, {'-2word': '주', '-1word': '연', 'word': '합', '+1word': '3', '+2word': '명'}, {'-2word': '연', '-1word': '합', 'word': '3', '+1word': '명', '+2word': '등'}, {'-2word': '합', '-1word': '3', 'word': '명', '+1word': '등', '+2word': '모'}, {'-2word': '3', '-1word': '명', 'word': '등', '+1word': '모', '+2word': '두'}, {'-2word': '명', '-1word': '등', 'word': '모', '+1word': '두', '+2word': '4'}, {'-2word': '등', '-1word': '모', 'word': '두', '+1word': '4', '+2word': '명'}, {'-2word': '모', '-1word': '두', 'word': '4', '+1word': '명', '+2word': '이'}, {'-2word': '두', '-1word': '4', 'word': '명', '+1word': '이', '+2word': '포'}, {'-2word': '4', '-1word': '명', 'word': '이', '+1word': '포', '+2word': '함'}, {'-2word': '명', '-1word': '이', 'word': '포', '+1word': '함', '+2word': '됐'}, {'-2word': '이', '-1word': '포', 'word': '함', '+1word': '됐', '+2word': '다'}, {'-2word': '포', '-1word': '함', 'word': '됐', '+1word': '다', '+2word': '.'}, {'-2word': '함', '-1word': '됐', 'word': '다', '+1word': '.'}, {'-2word': '됐', '-1word': '다', 'word': '.'}]\n"
     ]
    }
   ],
   "source": [
    "print (X_test[0])"
   ]
  },
  {
   "cell_type": "code",
   "execution_count": 120,
   "metadata": {
    "collapsed": true
   },
   "outputs": [],
   "source": [
    "# pip install sklearn-crfsuite\n",
    "\n",
    "import sklearn_crfsuite\n",
    "from sklearn_crfsuite import scorers\n",
    "from sklearn_crfsuite import metrics"
   ]
  },
  {
   "cell_type": "code",
   "execution_count": 232,
   "metadata": {
    "collapsed": false,
    "scrolled": true
   },
   "outputs": [
    {
     "data": {
      "text/plain": [
       "CRF(algorithm=None, all_possible_states=None, all_possible_transitions=None,\n",
       "  averaging=None, c=None, c1=None, c2=None, calibration_candidates=None,\n",
       "  calibration_eta=None, calibration_max_trials=None, calibration_rate=None,\n",
       "  calibration_samples=None, delta=None, epsilon=None, error_sensitive=None,\n",
       "  gamma=None, keep_tempfiles=None, linesearch=None, max_iterations=100,\n",
       "  max_linesearch=None, min_freq=None, model_filename=None,\n",
       "  num_memories=None, pa_type=None, period=None, trainer_cls=None,\n",
       "  variance=None, verbose=False)"
      ]
     },
     "execution_count": 232,
     "metadata": {},
     "output_type": "execute_result"
    }
   ],
   "source": [
    "crf = sklearn_crfsuite.CRF(max_iterations=100)\n",
    "crf.fit(X_train, train_y)"
   ]
  },
  {
   "cell_type": "markdown",
   "metadata": {},
   "source": [
    "## 2번"
   ]
  },
  {
   "cell_type": "code",
   "execution_count": 235,
   "metadata": {
    "collapsed": false,
    "scrolled": true
   },
   "outputs": [
    {
     "data": {
      "text/plain": [
       "0.9253395852949543"
      ]
     },
     "execution_count": 235,
     "metadata": {},
     "output_type": "execute_result"
    }
   ],
   "source": [
    "y_pred = crf.predict(X_test)\n",
    "metrics.flat_f1_score(test_y, y_pred, average='weighted', labels=['B','I'])"
   ]
  },
  {
   "cell_type": "markdown",
   "metadata": {},
   "source": [
    "## 3번"
   ]
  },
  {
   "cell_type": "code",
   "execution_count": 293,
   "metadata": {
    "collapsed": false,
    "scrolled": true
   },
   "outputs": [
    {
     "name": "stdout",
     "output_type": "stream",
     "text": [
      "자질이 부족합니다\n",
      "띄어 쓰기가 완벽하지는 않네요\n"
     ]
    }
   ],
   "source": [
    "result = auto_space(\"자질이부족합니다\")\n",
    "print (result)\n",
    "\n",
    "result = auto_space(\"띄어쓰기가완벽하지는않네요\")\n",
    "print (result)"
   ]
  },
  {
   "cell_type": "code",
   "execution_count": 289,
   "metadata": {
    "collapsed": false
   },
   "outputs": [],
   "source": [
    "def index2feature(sent, i, offset):\n",
    "    word= sent[i + offset]\n",
    "    if offset < 0:       \n",
    "        sign=''\n",
    "        return '{}{}word,{}'.format(sign, offset, word)\n",
    "    if offset == 0:\n",
    "        return 'word,{}'.format(word)\n",
    "    else:\n",
    "        sign = '+'\n",
    "        return '{}{}word,{}'.format(sign, offset, word)\n",
    "\n",
    "def word2features(sent, i):\n",
    "    L = len(sent)\n",
    "    word= sent[i]\n",
    "    features = []\n",
    " \n",
    "    if i > 1:\n",
    "        features.append(index2feature(sent, i, -2))\n",
    "    if i > 0:\n",
    "        features.append(index2feature(sent, i, -1))  \n",
    "    features.append(index2feature(sent, i, 0))\n",
    "    if i < L - 1:\n",
    "        features.append(index2feature(sent, i, 1)) \n",
    "    if i < L - 2:\n",
    "        features.append(index2feature(sent, i, 2)) \n",
    "    return features\n",
    "\n",
    "            \n",
    "def auto_space(sent):  \n",
    "    sentence=[]\n",
    "    result=[]\n",
    "    sentence.append([word2features(sent, i) for i in range(len(sent))])    \n",
    "    sentence2=copy.copy(sentence)\n",
    "    sentence3=copy.copy(sentence2)\n",
    "    for i in range(len(sentence)):\n",
    "        for j in range(len(sentence[i])):        \n",
    "            for k in range(len(sentence[i][j])):\n",
    "                sentence2[i][j][k]=copy.copy(sentence[i][j][k].split(','))\n",
    "    for i in range(len(sentence2)):\n",
    "        for j in range(len(sentence2[i])):     \n",
    "            sentence3[i][j]=copy.copy(dict(sentence2[i][j]))\n",
    "    sentence=list(zip(list(sent),crf.predict(sentence3)[0]))\n",
    "    for i in range(len(sentence)):\n",
    "        if sentence[i][1]=='B' and i>0:\n",
    "            result.append(\" \"+sentence[i][0])\n",
    "        else:\n",
    "            result.append(sentence[i][0])\n",
    "    return \"\".join(result)"
   ]
  },
  {
   "cell_type": "code",
   "execution_count": null,
   "metadata": {
    "collapsed": true
   },
   "outputs": [],
   "source": []
  },
  {
   "cell_type": "code",
   "execution_count": null,
   "metadata": {
    "collapsed": true
   },
   "outputs": [],
   "source": []
  },
  {
   "cell_type": "code",
   "execution_count": null,
   "metadata": {
    "collapsed": true
   },
   "outputs": [],
   "source": []
  }
 ],
 "metadata": {
  "kernelspec": {
   "display_name": "Python 3",
   "language": "python",
   "name": "python3"
  },
  "language_info": {
   "codemirror_mode": {
    "name": "ipython",
    "version": 3
   },
   "file_extension": ".py",
   "mimetype": "text/x-python",
   "name": "python",
   "nbconvert_exporter": "python",
   "pygments_lexer": "ipython3",
   "version": "3.6.0"
  }
 },
 "nbformat": 4,
 "nbformat_minor": 1
}
