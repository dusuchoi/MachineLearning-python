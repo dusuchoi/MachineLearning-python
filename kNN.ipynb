{
 "cells": [
  {
   "cell_type": "markdown",
   "metadata": {
    "deletable": true,
    "editable": true
   },
   "source": [
    "## 아이리스 데이터\n",
    "* 4개의 속성(자질): 꽃받침 길이, 꽃받침 너비, 꽃잎 길이, 꽃잎 너비\n",
    "* 3개의 레이블: 0:Setosa, 1:Versicolour, 2:Virginica"
   ]
  },
  {
   "cell_type": "code",
   "execution_count": 1,
   "metadata": {
    "collapsed": false,
    "deletable": true,
    "editable": true,
    "scrolled": true
   },
   "outputs": [
    {
     "name": "stdout",
     "output_type": "stream",
     "text": [
      "(array([ 5.1,  3.5,  1.4,  0.2]), 0)\n",
      "(array([ 4.9,  3. ,  1.4,  0.2]), 0)\n",
      "(array([ 4.7,  3.2,  1.3,  0.2]), 0)\n",
      "(array([ 4.6,  3.1,  1.5,  0.2]), 0)\n",
      "(array([ 5. ,  3.6,  1.4,  0.2]), 0)\n",
      "(array([ 5.4,  3.9,  1.7,  0.4]), 0)\n",
      "(array([ 4.6,  3.4,  1.4,  0.3]), 0)\n",
      "(array([ 5. ,  3.4,  1.5,  0.2]), 0)\n",
      "(array([ 4.4,  2.9,  1.4,  0.2]), 0)\n",
      "(array([ 4.9,  3.1,  1.5,  0.1]), 0)\n"
     ]
    }
   ],
   "source": [
    "from sklearn import datasets\n",
    "\n",
    "iris = datasets.load_iris()\n",
    "# 10개의 iris데이터 sample 보기\n",
    "for i in range(10): \n",
    "    print(iris.data[i], iris.target[i])"
   ]
  },
  {
   "cell_type": "markdown",
   "metadata": {
    "deletable": true,
    "editable": true
   },
   "source": [
    "## Loading the data"
   ]
  },
  {
   "cell_type": "code",
   "execution_count": 2,
   "metadata": {
    "collapsed": true,
    "deletable": true,
    "editable": true
   },
   "outputs": [],
   "source": [
    "# feature matrix를 \"X\"에 저장\n",
    "X = iris.data\n",
    "# label vector를 \"y\"에 저장\n",
    "y = iris.target"
   ]
  },
  {
   "cell_type": "markdown",
   "metadata": {
    "deletable": true,
    "editable": true
   },
   "source": [
    "## Split train data and test data"
   ]
  },
  {
   "cell_type": "code",
   "execution_count": 3,
   "metadata": {
    "collapsed": false,
    "deletable": true,
    "editable": true
   },
   "outputs": [
    {
     "name": "stdout",
     "output_type": "stream",
     "text": [
      "(120, 30)\n",
      "(120, 30)\n"
     ]
    }
   ],
   "source": [
    "from sklearn.model_selection import train_test_split\n",
    "\n",
    "# train data와 test data로 나눈다\n",
    "# train data는 80%, test data는 20%\n",
    "X_train, X_test, y_train, y_test = train_test_split(X, y, test_size=0.2, random_state=33)\n",
    "\n",
    "# 분리된 데이터 형태 출력\n",
    "print (len(X_train), len(X_test) )\n",
    "print (len(y_train), len(y_test))"
   ]
  },
  {
   "cell_type": "markdown",
   "metadata": {
    "deletable": true,
    "editable": true
   },
   "source": [
    "## Example training data"
   ]
  },
  {
   "cell_type": "code",
   "execution_count": 4,
   "metadata": {
    "collapsed": false,
    "deletable": true,
    "editable": true
   },
   "outputs": [
    {
     "data": {
      "image/png": "[encoded data removed]",
      "text/plain": [
       "<matplotlib.figure.Figure at 0x83077f0>"
      ]
     },
     "metadata": {},
     "output_type": "display_data"
    }
   ],
   "source": [
    "import matplotlib.pyplot as plt\n",
    "colors = ['red', 'green', 'blue']\n",
    "for i in range(len(colors)):\n",
    "    # X_train에서 레이블이 i인 관측치에서 '꽃받침 길이'속성만을 추출하여 xs에 저장\n",
    "    xs = X_train[:, 0][y_train==i]\n",
    "    # X_train에서 레이블이 i인 관측치에서 '꽃받침 너비'속성만을 추출하여 ys에 저장\n",
    "    ys = X_train[:, 1][y_train==i]\n",
    "    plt.scatter(xs, ys, c=colors[i])\n",
    "\n",
    "# 도표 설명    \n",
    "plt.legend(iris.target_names)\n",
    "plt.xlabel('Sepal length')\n",
    "plt.ylabel('Sepal width')\n",
    "\n",
    "plt.show()"
   ]
  },
  {
   "cell_type": "markdown",
   "metadata": {
    "deletable": true,
    "editable": true
   },
   "source": [
    "# k-nn Class import"
   ]
  },
  {
   "cell_type": "code",
   "execution_count": 5,
   "metadata": {
    "collapsed": true,
    "deletable": true,
    "editable": true
   },
   "outputs": [],
   "source": [
    "from sklearn.neighbors import KNeighborsClassifier"
   ]
  },
  {
   "cell_type": "markdown",
   "metadata": {
    "deletable": true,
    "editable": true
   },
   "source": [
    "# 객체 생성"
   ]
  },
  {
   "cell_type": "code",
   "execution_count": 6,
   "metadata": {
    "collapsed": true,
    "deletable": true,
    "editable": true
   },
   "outputs": [],
   "source": [
    "knn = KNeighborsClassifier(n_neighbors = 1)"
   ]
  },
  {
   "cell_type": "code",
   "execution_count": 7,
   "metadata": {
    "collapsed": false,
    "deletable": true,
    "editable": true
   },
   "outputs": [
    {
     "name": "stdout",
     "output_type": "stream",
     "text": [
      "KNeighborsClassifier(algorithm='auto', leaf_size=30, metric='minkowski',\n",
      "           metric_params=None, n_jobs=1, n_neighbors=1, p=2,\n",
      "           weights='uniform')\n"
     ]
    }
   ],
   "source": [
    "print (knn)"
   ]
  },
  {
   "cell_type": "markdown",
   "metadata": {
    "deletable": true,
    "editable": true
   },
   "source": [
    "### fit()을 통해 학습"
   ]
  },
  {
   "cell_type": "code",
   "execution_count": 8,
   "metadata": {
    "collapsed": false,
    "deletable": true,
    "editable": true,
    "scrolled": false
   },
   "outputs": [
    {
     "data": {
      "text/plain": [
       "KNeighborsClassifier(algorithm='auto', leaf_size=30, metric='minkowski',\n",
       "           metric_params=None, n_jobs=1, n_neighbors=1, p=2,\n",
       "           weights='uniform')"
      ]
     },
     "execution_count": 8,
     "metadata": {},
     "output_type": "execute_result"
    }
   ],
   "source": [
    "knn.fit(X_train, y_train)"
   ]
  },
  {
   "cell_type": "markdown",
   "metadata": {
    "deletable": true,
    "editable": true
   },
   "source": [
    "### predict() 예측"
   ]
  },
  {
   "cell_type": "code",
   "execution_count": 9,
   "metadata": {
    "collapsed": false,
    "deletable": true,
    "editable": true,
    "scrolled": true
   },
   "outputs": [
    {
     "data": {
      "text/plain": [
       "array([2])"
      ]
     },
     "execution_count": 9,
     "metadata": {},
     "output_type": "execute_result"
    }
   ],
   "source": [
    "knn.predict( [[3, 5, 4, 2]])"
   ]
  },
  {
   "cell_type": "markdown",
   "metadata": {
    "deletable": true,
    "editable": true
   },
   "source": [
    "### 여러개 예측"
   ]
  },
  {
   "cell_type": "code",
   "execution_count": 10,
   "metadata": {
    "collapsed": false,
    "deletable": true,
    "editable": true
   },
   "outputs": [
    {
     "data": {
      "text/plain": [
       "array([2, 1])"
      ]
     },
     "execution_count": 10,
     "metadata": {},
     "output_type": "execute_result"
    }
   ],
   "source": [
    "X_new = [[3,5,4,2], [5,4,3,2]]\n",
    "knn.predict(X_new)"
   ]
  },
  {
   "cell_type": "markdown",
   "metadata": {
    "deletable": true,
    "editable": true
   },
   "source": [
    "## 모델 성능 측정 \n",
    "\n",
    "* 정확도(accuracy) = (TP + TN) / m\n",
    "* 정밀도(precision) = TP / (TP + FP)\n",
    "* 재현율(recall) = TP / (TP + FN)\n",
    "* f1-점수(f1-score) = 2 x 정밀도 x 재현율 / (정밀도 + 재현율)"
   ]
  },
  {
   "cell_type": "code",
   "execution_count": 11,
   "metadata": {
    "collapsed": false,
    "deletable": true,
    "editable": true
   },
   "outputs": [
    {
     "name": "stdout",
     "output_type": "stream",
     "text": [
      "             precision    recall  f1-score   support\n",
      "\n",
      "     setosa       1.00      1.00      1.00         8\n",
      " versicolor       0.89      1.00      0.94         8\n",
      "  virginica       1.00      0.93      0.96        14\n",
      "\n",
      "avg / total       0.97      0.97      0.97        30\n",
      "\n"
     ]
    }
   ],
   "source": [
    "y_pred = knn.predict(X_test)\n",
    "\n",
    "from sklearn import metrics\n",
    "print (metrics.classification_report(y_test, y_pred, target_names=iris.target_names))"
   ]
  },
  {
   "cell_type": "markdown",
   "metadata": {
    "deletable": true,
    "editable": true
   },
   "source": [
    "## 교차 검증\n",
    "\n",
    "cross_val_score(estimator, X, y=None, scoring=None, cv=None, n_jobs=1, ...)\n",
    "* estimator: 사용할 모델\n",
    "* X: 모델에 적용할 데이터\n",
    "* y: supervised learning일 경우 예측을위한 정답데이터\n",
    "* scoring: 성능지표\n",
    "* cv: 데이터를 몇 개로 분리할지 결정"
   ]
  },
  {
   "cell_type": "code",
   "execution_count": 13,
   "metadata": {
    "collapsed": false,
    "deletable": true,
    "editable": true
   },
   "outputs": [],
   "source": [
    "from sklearn.cross_validation import cross_val_score\n",
    "# warning: sklearn version 0.20 => from sklearn.model_selection import cross_val_score\n",
    "\n",
    "knn = KNeighborsClassifier(n_neighbors=5)\n",
    "accuracys = cross_val_score(knn, X, y, cv=10, scoring='accuracy')"
   ]
  },
  {
   "cell_type": "code",
   "execution_count": 14,
   "metadata": {
    "collapsed": false,
    "deletable": true,
    "editable": true,
    "scrolled": true
   },
   "outputs": [
    {
     "name": "stdout",
     "output_type": "stream",
     "text": [
      "[ 1.          0.93333333  1.          1.          0.86666667  0.93333333\n",
      "  0.93333333  1.          1.          1.        ]\n"
     ]
    }
   ],
   "source": [
    "print(accuracys)"
   ]
  },
  {
   "cell_type": "code",
   "execution_count": 15,
   "metadata": {
    "collapsed": false,
    "deletable": true,
    "editable": true
   },
   "outputs": [
    {
     "name": "stdout",
     "output_type": "stream",
     "text": [
      "0.966666666667\n"
     ]
    }
   ],
   "source": [
    "print(accuracys.mean())"
   ]
  },
  {
   "cell_type": "markdown",
   "metadata": {
    "collapsed": true,
    "deletable": true,
    "editable": true
   },
   "source": [
    "# 프로그래밍 문제"
   ]
  },
  {
   "cell_type": "code",
   "execution_count": 28,
   "metadata": {
    "collapsed": false,
    "deletable": true,
    "editable": true,
    "scrolled": true
   },
   "outputs": [
    {
     "data": {
      "image/png": "[encoded data removed]",
      "text/plain": [
       "<matplotlib.figure.Figure at 0x472ae70>"
      ]
     },
     "metadata": {},
     "output_type": "display_data"
    }
   ],
   "source": [
    "import numpy as np\n",
    "from sklearn.model_selection import train_test_split\n",
    "import matplotlib.pyplot as plt\n",
    "from sklearn.cross_validation import cross_val_score\n",
    "from sklearn.neighbors import KNeighborsClassifier\n",
    "\n",
    "f=open(\"C:/german-symbolic.txt\")\n",
    "\n",
    "data=list([i for i in line.splitlines()]for line in f)\n",
    "\n",
    "\"\"\"\n",
    "def normal(list):\n",
    "    M=max(list)\n",
    "    m=min(list)\n",
    "    for i in range(200):\n",
    "        list[i]=(list[i]-m)/(M-m)\n",
    "    return list\n",
    "    정규화하면 성능이 떨어짐\n",
    "\"\"\"  \n",
    "\n",
    "# feature matrix를 \"X\"에 저장\n",
    "X = [data[i][0][0:-2] for i in range(200)]\n",
    "# label vector를 \"y\"에 저장\n",
    "y = [data[i][0][-1] for i in range(200)]\n",
    "\n",
    "\n",
    "X=np.array(list((X[i]).split(\" \") for i in range (200)))\n",
    "\n",
    "for i in range(20):\n",
    "    if(X[:,i][i].startswith('A')):\n",
    "        for j in range(200):\n",
    "            X[:,i][j]=int((X[:,i][j])[-1:])\n",
    "\n",
    "X_train, X_test, y_train, y_test = train_test_split(X, y, test_size=0.2, random_state=33)\n",
    "\n",
    "k=range(21)\n",
    "for i in range(1,21):\n",
    "    knn = KNeighborsClassifier(n_neighbors=i)\n",
    "    accuracys = cross_val_score(knn, X, y, cv=10, scoring='accuracy')\n",
    "    k[i]=accuracys.mean()\n",
    "\n",
    "plt.subplots_adjust(left=None, bottom=None, right=2, top=1)\n",
    "\n",
    "plt.xticks(range(20),range(1,21))\n",
    "plt.xlabel('K')\n",
    "plt.ylabel('accuracys.mean')\n",
    "plt.plot(k[1:21])\n",
    "plt.show()"
   ]
  },
  {
   "cell_type": "code",
   "execution_count": null,
   "metadata": {
    "collapsed": true
   },
   "outputs": [],
   "source": []
  }
 ],
 "metadata": {
  "kernelspec": {
   "display_name": "Python 2",
   "language": "python",
   "name": "python2"
  },
  "language_info": {
   "codemirror_mode": {
    "name": "ipython",
    "version": 2
   },
   "file_extension": ".py",
   "mimetype": "text/x-python",
   "name": "python",
   "nbconvert_exporter": "python",
   "pygments_lexer": "ipython2",
   "version": "2.7.13"
  }
 },
 "nbformat": 4,
 "nbformat_minor": 1
}
